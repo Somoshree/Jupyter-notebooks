{
 "cells": [
  {
   "cell_type": "code",
   "execution_count": 1,
   "metadata": {},
   "outputs": [
    {
     "data": {
      "text/plain": [
       "'1.16.4'"
      ]
     },
     "execution_count": 1,
     "metadata": {},
     "output_type": "execute_result"
    }
   ],
   "source": [
    "import numpy as np\n",
    "np.__version__"
   ]
  },
  {
   "cell_type": "markdown",
   "metadata": {},
   "source": [
    "np? #'?' gives the documentation and other relevant info. can also use help(..) to get access to the documentation."
   ]
  },
  {
   "cell_type": "markdown",
   "metadata": {},
   "source": [
    "np.absolute_import??# ?? enables to access the source code of the object we are curious to know about"
   ]
  },
  {
   "cell_type": "markdown",
   "metadata": {},
   "source": [
    "np.<TAB> # use of the Tab key for autocompletion and exploration of the contents of objects, modules, and namespaces"
   ]
  },
  {
   "cell_type": "code",
   "execution_count": 2,
   "metadata": {},
   "outputs": [
    {
     "data": {
      "text/plain": [
       "array([[3.14, 3.14, 3.14, 3.14, 3.14],\n",
       "       [3.14, 3.14, 3.14, 3.14, 3.14],\n",
       "       [3.14, 3.14, 3.14, 3.14, 3.14]])"
      ]
     },
     "execution_count": 2,
     "metadata": {},
     "output_type": "execute_result"
    }
   ],
   "source": [
    "#creating arrays from lists in python. Mentioning the data type of the resulting array explicitly is not\n",
    "#always required.\n",
    "A=np.array([1,2,3,4],dtype='int32')\n",
    "#or dtype could also be mentioned by using the associated numpy object rather than using string\n",
    "A=np.array([1,2,3,4],dtype=np.int32)\n",
    "# Create a length-10 integer array filled with zeros        \n",
    "np.zeros(10, dtype=int)\n",
    "# Create a 3x5 floating-point array filled with 1s  \n",
    "np.ones((3, 5), dtype=float)\n",
    "# Create a 3x5 array filled with 3.14       \n",
    "np.full((3, 5), 3.14)"
   ]
  },
  {
   "cell_type": "code",
   "execution_count": 3,
   "metadata": {},
   "outputs": [
    {
     "data": {
      "text/plain": [
       "array([ 0,  2,  4,  6,  8, 10, 12, 14, 16, 18])"
      ]
     },
     "execution_count": 3,
     "metadata": {},
     "output_type": "execute_result"
    }
   ],
   "source": [
    "# Create an array filled with a linear sequence  \n",
    "# Starting at 0, ending at 20, stepping by 2      \n",
    "# (this is similar to the built-in range() function)        \n",
    "np.arange(0, 20, 2)"
   ]
  },
  {
   "cell_type": "code",
   "execution_count": 4,
   "metadata": {},
   "outputs": [
    {
     "data": {
      "text/plain": [
       "array([0.  , 0.25, 0.5 , 0.75, 1.  ])"
      ]
     },
     "execution_count": 4,
     "metadata": {},
     "output_type": "execute_result"
    }
   ],
   "source": [
    "# Create an array of five values evenly spaced between 0 and 1        \n",
    "np.linspace(0, 1, 5)"
   ]
  },
  {
   "cell_type": "code",
   "execution_count": 5,
   "metadata": {},
   "outputs": [
    {
     "name": "stdout",
     "output_type": "stream",
     "text": [
      "3\n",
      "(3, 4, 5)\n",
      "60\n",
      "int32\n",
      "4\n",
      "240\n",
      "[[[5 0 3 3 7]\n",
      "  [9 3 5 2 4]\n",
      "  [7 6 8 8 1]\n",
      "  [6 7 7 8 1]]\n",
      "\n",
      " [[5 9 8 9 4]\n",
      "  [3 0 3 5 0]\n",
      "  [2 3 8 1 3]\n",
      "  [3 3 7 0 1]]\n",
      "\n",
      " [[9 9 0 4 7]\n",
      "  [3 2 7 2 0]\n",
      "  [0 4 5 5 6]\n",
      "  [8 4 1 4 9]]]\n",
      "3\n",
      "[[[5 2 3 3 7]\n",
      "  [9 3 5 2 4]\n",
      "  [7 6 8 8 1]\n",
      "  [6 7 7 8 1]]\n",
      "\n",
      " [[5 9 8 9 4]\n",
      "  [3 0 3 5 0]\n",
      "  [2 3 8 1 3]\n",
      "  [3 3 7 0 1]]\n",
      "\n",
      " [[9 9 0 4 7]\n",
      "  [3 2 7 2 0]\n",
      "  [0 4 5 5 6]\n",
      "  [8 4 1 4 9]]]\n"
     ]
    }
   ],
   "source": [
    "# Create a 3x3 array of uniformly distributed        \n",
    "# random values between 0 and 1        \n",
    "np.random.random((3, 3))\n",
    "\n",
    "# Create a 3x3 array of normally distributed random values\n",
    "# with mean 0 and standard deviation 1        \n",
    "np.random.normal(0, 1, (3, 3))\n",
    "\n",
    "# Create a 3x3 array of random integers in the interval [0, 10)        \n",
    "np.random.randint(0, 10, (3, 3))\n",
    "\n",
    "# Create a 3x3 identity matrix        \n",
    "np.eye(3)\n",
    "\n",
    "np.random.seed(0) #seed with a set value(here 0) in order to ensure that the same random arrays are generated every\n",
    "#time the code is run\n",
    "\n",
    "x1=np.random.randint(0,10,(3,4,5))#every array has these 3 attributes: ndim(number of dimensions),shape and size of\n",
    "#array. Other attributes include dtype, itemsize, nbytes, etc\n",
    "print(x1.ndim)\n",
    "print(x1.shape)\n",
    "print(x1.size)\n",
    "print(x1.dtype)\n",
    "print(x1.itemsize) #lists the size(in bytes) of each array element\n",
    "print(x1.nbytes) #lists the total size(in bytes) of the array\n",
    "print(x1)\n",
    "print(x1[0,0,2]) #in multi-dimensional arrays, u access items using comma separated tuple of indices\n",
    "x1[0,0,1]=2\n",
    "print(x1)"
   ]
  },
  {
   "cell_type": "code",
   "execution_count": 6,
   "metadata": {},
   "outputs": [
    {
     "name": "stdout",
     "output_type": "stream",
     "text": [
      "[0 1 2 3 4]\n",
      "[5 6 7 8 9]\n",
      "[4 5 6]\n",
      "[1 3 5 7 9]\n",
      "[9 8 7 6 5 4 3 2 1 0]\n",
      "[5 3 1]\n"
     ]
    }
   ],
   "source": [
    "x=np.arange(10)\n",
    "#slicing of arrays in numpy can be done as follows: x[start:stop:step].\n",
    "#if any of these values are missing the default values are: start=0, stop=size of dimension,step=1\n",
    "print(x[:5]) #first five elements\n",
    "print(x[5:]) #elements after index 5\n",
    "print(x[4:7]) #middle subarray\n",
    "print(x[1::2]) #every other element starting at index 1\n",
    "\n",
    "#when step value is negative, the defaults for start and stop value are swapped\n",
    "\n",
    "print(x[::-1]) #all elements are reversed\n",
    "print(x[5::-2]) #reversed every other from index 5 till index 0"
   ]
  },
  {
   "cell_type": "code",
   "execution_count": 7,
   "metadata": {},
   "outputs": [
    {
     "name": "stdout",
     "output_type": "stream",
     "text": [
      "[8 9 7 5]\n",
      "[8 1 1 7]\n",
      "[[8 1]\n",
      " [9 9]]\n"
     ]
    }
   ],
   "source": [
    "#Multidimensional slices work in the same way, with multiple slices separated by commas\n",
    "x2=np.random.randint(0,10,(4,4))\n",
    "print(x2[:,0]) #accessing the first column of x2\n",
    "print(x2[0,:]) #accessing the first row of x2\n",
    "x3=x2[:2,:2].copy() #copy() method is used to explicitly copy data within an array or subarray. By default array slices\n",
    "#in numpy return views rather than copies of the array data. This is one area in which Numpy array slicing differs from\n",
    "#Python list slicing: in lists, slices will be copies.\n",
    "print(x3)"
   ]
  },
  {
   "cell_type": "code",
   "execution_count": 8,
   "metadata": {},
   "outputs": [
    {
     "name": "stdout",
     "output_type": "stream",
     "text": [
      "[[1 2 3]\n",
      " [4 5 6]\n",
      " [7 8 9]]\n"
     ]
    },
    {
     "data": {
      "text/plain": [
       "array([[1, 2, 3]])"
      ]
     },
     "execution_count": 8,
     "metadata": {},
     "output_type": "execute_result"
    }
   ],
   "source": [
    "x=np.arange(1,10).reshape((3,3))# Wherever possible, the reshape method will use no-copy view of the initial array,\n",
    "#but with non-contiguous memory buffers this isnt always the case\n",
    "print(x)\n",
    "x=np.array([1,2,3])\n",
    "x.reshape((1,3))#row vector via reshape"
   ]
  },
  {
   "cell_type": "code",
   "execution_count": 9,
   "metadata": {},
   "outputs": [
    {
     "data": {
      "text/plain": [
       "array([[1, 2, 3]])"
      ]
     },
     "execution_count": 9,
     "metadata": {},
     "output_type": "execute_result"
    }
   ],
   "source": [
    "x[np.newaxis,:]#row vector via numpy's newaxis  keyword"
   ]
  },
  {
   "cell_type": "code",
   "execution_count": 10,
   "metadata": {},
   "outputs": [
    {
     "name": "stdout",
     "output_type": "stream",
     "text": [
      "[1 2 3 3 2 1]\n",
      "[[0 1]\n",
      " [2 3]\n",
      " [4 5]\n",
      " [6 7]\n",
      " [8 9]\n",
      " [0 1]\n",
      " [2 3]\n",
      " [4 5]\n",
      " [6 7]\n",
      " [8 9]]\n"
     ]
    },
    {
     "data": {
      "text/plain": [
       "array([[0, 1, 0, 1],\n",
       "       [2, 3, 2, 3],\n",
       "       [4, 5, 4, 5],\n",
       "       [6, 7, 6, 7],\n",
       "       [8, 9, 8, 9]])"
      ]
     },
     "execution_count": 10,
     "metadata": {},
     "output_type": "execute_result"
    }
   ],
   "source": [
    "#Concatenation or joining of two or more arrays in Numpy is primarily accomplished through the routines np.concatenate,\n",
    "#np.vstack, np.hstack\n",
    "x=np.array([1,2,3])\n",
    "y=np.array([3,2,1])\n",
    "print(np.concatenate([x,y])) #this method takes a tuple or list of arrays to be concatenated\n",
    "#np.concatenate can also be used for 2-D arrays\n",
    "grid=np.arange(10).reshape((5,2))\n",
    "print(np.concatenate([grid,grid])) #concatenate along the first axis\n",
    "np.concatenate([grid,grid],axis=1)#concatenated along the second axis\n",
    "\n",
    "#The axis keyword specifies the dimension of the array that will be collapsed rather than the dimension of the array\n",
    "#that will be returned"
   ]
  },
  {
   "cell_type": "code",
   "execution_count": 11,
   "metadata": {},
   "outputs": [
    {
     "name": "stdout",
     "output_type": "stream",
     "text": [
      "[[1 2 3]\n",
      " [9 8 7]\n",
      " [6 5 4]]\n"
     ]
    }
   ],
   "source": [
    "#For working with arrays of mixed dimensions, it can be clearer to use np.vstack and np.hstack functions\n",
    "x=np.array([1,2,3])\n",
    "grid=np.array([[9,8,7],[6,5,4]])\n",
    "print(np.vstack([x,grid]))# vertically stack the arrays, i.e concatenating along the first axis"
   ]
  },
  {
   "cell_type": "code",
   "execution_count": 12,
   "metadata": {},
   "outputs": [
    {
     "name": "stdout",
     "output_type": "stream",
     "text": [
      "[[ 9  8  7 99]\n",
      " [ 6  5  4 99]]\n"
     ]
    }
   ],
   "source": [
    "y=np.array([[99],[99]])\n",
    "print(np.hstack([grid,y])) #horizontally stack the arrays, i.e. concatenating along the second axis\n",
    "#similarly np.dstack() will stack arrays along the thrid axis"
   ]
  },
  {
   "cell_type": "code",
   "execution_count": 13,
   "metadata": {},
   "outputs": [
    {
     "name": "stdout",
     "output_type": "stream",
     "text": [
      "[1 2 3] [99 99] [3 2 1]\n",
      "[[0 1 2 3]\n",
      " [4 5 6 7]]\n",
      "[[ 8  9 10 11]\n",
      " [12 13 14 15]]\n",
      "[[ 0  1  2]\n",
      " [ 4  5  6]\n",
      " [ 8  9 10]\n",
      " [12 13 14]]\n",
      "[[ 3]\n",
      " [ 7]\n",
      " [11]\n",
      " [15]]\n"
     ]
    }
   ],
   "source": [
    "#The opposite of concatenation is splitting, which is accomplished by the functions np.split, np.hsplit and np.vsplit\n",
    "x=np.array([1,2,3,99,99,3,2,1])\n",
    "x1,x2,x3 = np.split(x,[3,5]) #the list of indices passed as argument gives the split points. N split points lead to N+1\n",
    "#subarrays\n",
    "print(x1,x2,x3)\n",
    "grid=np.arange(16).reshape((4,4))\n",
    "upper, lower=np.vsplit(grid,[2]) #splits along the first axis\n",
    "print(upper)\n",
    "print(lower)\n",
    "left,right=np.hsplit(grid,[3]) #splits along the second axis\n",
    "print(left)\n",
    "print(right)\n",
    "#np.dsplit will split along the third axis"
   ]
  },
  {
   "cell_type": "markdown",
   "metadata": {},
   "source": [
    "Exploring Numpy's Ufuncs(i.e. Universal Functions)"
   ]
  },
  {
   "cell_type": "code",
   "execution_count": 14,
   "metadata": {},
   "outputs": [
    {
     "name": "stdout",
     "output_type": "stream",
     "text": [
      "x= [0 1 2 3]\n",
      "x+5= [5 6 7 8]\n",
      "x-5= [-5 -4 -3 -2]\n",
      "-x= [ 0 -1 -2 -3]\n",
      "x*2= [0 2 4 6]\n",
      "x/2= [0.  0.5 1.  1.5]\n",
      "x//2= [0 0 1 1]\n",
      "x**2= [0 1 4 9]\n",
      "X%2= [0 1 0 1]\n",
      "abs(x)= [0 1 2 3]\n"
     ]
    }
   ],
   "source": [
    "x=np.arange(4)\n",
    "print(\"x=\",x)\n",
    "print(\"x+5=\",x+5) #equivalent to np.add(x,5)\n",
    "print(\"x-5=\",x-5) #equivlent to np.subtract(x,5)\n",
    "print(\"-x=\",-x) #equivalent to np.negative(x)\n",
    "print(\"x*2=\",x*2) #equivalent to np.multiply(x,2)\n",
    "print(\"x/2=\",x/2) #equivalent to np.divide(x,2)\n",
    "print(\"x//2=\",x//2) #equivalent to np.floor_divide(x,2)\n",
    "print(\"x**2=\",x**2)#equivalent to np.power(x,2)\n",
    "print(\"X%2=\",x%2) #equivalent to np.mod(x,2)\n",
    "print(\"abs(x)=\",abs(x)) #equivalent to np.abs(x)"
   ]
  },
  {
   "cell_type": "code",
   "execution_count": 15,
   "metadata": {},
   "outputs": [
    {
     "name": "stdout",
     "output_type": "stream",
     "text": [
      "sin(theta)= [0.0000000e+00 1.0000000e+00 1.2246468e-16]\n",
      "cos(theta)= [ 1.000000e+00  6.123234e-17 -1.000000e+00]\n",
      "tan(theta)= [ 0.00000000e+00  1.63312394e+16 -1.22464680e-16]\n"
     ]
    }
   ],
   "source": [
    "#Trigonometric universal functions\n",
    "theta=np.linspace(0,np.pi,3)\n",
    "print(\"sin(theta)=\",np.sin(theta)) #inverse of sin function is given by np.arcsin()\n",
    "print(\"cos(theta)=\",np.cos(theta))#inverse is given by np.arccos()\n",
    "print(\"tan(theta)=\",np.tan(theta))#inverse tan function is given by np.arctan()"
   ]
  },
  {
   "cell_type": "code",
   "execution_count": 16,
   "metadata": {},
   "outputs": [
    {
     "name": "stdout",
     "output_type": "stream",
     "text": [
      "e^x= [ 2.71828183  7.3890561  20.08553692]\n",
      "2^x= [2. 4. 8.]\n",
      "3^x= [ 3  9 27]\n",
      "ln(x)= [0.         0.69314718 1.38629436 2.30258509]\n",
      "log2(x)= [0.         1.         2.         3.32192809]\n",
      "log10x= [0.         0.30103    0.60205999 1.        ]\n"
     ]
    }
   ],
   "source": [
    "#Exponents and Logarithms\n",
    "x=[1,2,3]\n",
    "print(\"e^x=\",np.exp(x))\n",
    "print(\"2^x=\",np.exp2(x))\n",
    "print(\"3^x=\",np.power(3,x))\n",
    "\n",
    "#inverse of exponentials - logarithms\n",
    "x=[1,2,4,10]\n",
    "print(\"ln(x)=\",np.log(x)) #gives the natural logarithm\n",
    "print(\"log2(x)=\",np.log2(x)) #base-2 logarithm\n",
    "print(\"log10x=\",np.log10(x)) #base-10 logarithm"
   ]
  },
  {
   "cell_type": "code",
   "execution_count": 17,
   "metadata": {},
   "outputs": [],
   "source": [
    "#for comparison and bitwise operators, and for aggregate functions refer Python data science handbook"
   ]
  },
  {
   "cell_type": "code",
   "execution_count": 22,
   "metadata": {},
   "outputs": [
    {
     "name": "stdout",
     "output_type": "stream",
     "text": [
      "[46 42 56 60 77 30 24  2  3 94]\n",
      "[60, 30, 3]\n",
      "[60 30  3]\n",
      "[[42 56]\n",
      " [30  2]]\n",
      "***\n",
      "[[ 0  1  2  3]\n",
      " [ 4  5  6  7]\n",
      " [ 8  9 10 11]]\n",
      "[ 2  5 11]\n",
      "[[ 2  1  3]\n",
      " [ 6  5  7]\n",
      " [10  9 11]]\n"
     ]
    }
   ],
   "source": [
    "#Fancy indexing - passing an array of indices to access multiple array elements at once\n",
    "x=np.random.randint(100,size=10)\n",
    "print(x)\n",
    "print([x[3],x[5],x[8]]) #one way of fancy indexing\n",
    "indices=[3,5,8]\n",
    "print(x[indices]) #alternative way of fancy indexing\n",
    "\n",
    "#With fancy indexing, the shape of the result reflects the shape of the index arrays rather than the shape of the array\n",
    "#being indexed\n",
    "indices = np.array([[1,2],[5,7]])\n",
    "print(x[indices])\n",
    "#Fancy indexing also works in multiple dimensions\n",
    "print('***')\n",
    "X=np.arange(12).reshape((3,4))\n",
    "print(X)\n",
    "row=np.array([0,1,2])\n",
    "col=np.array([2,1,3])\n",
    "print(X[row,col]) #the first index refers to the row and the second index refers to the column\n",
    "print(X[row[:,np.newaxis],col]) #each row value is matched with each column vector as we saw in broadcasting\n",
    "\n",
    "#to know more about how np.newaxis works, visit this site:\n",
    "#https://stackoverflow.com/questions/29241056/how-does-numpy-newaxis-work-and-when-to-use-it"
   ]
  },
  {
   "cell_type": "markdown",
   "metadata": {},
   "source": [
    "Sorting of arrays"
   ]
  },
  {
   "cell_type": "code",
   "execution_count": 19,
   "metadata": {},
   "outputs": [
    {
     "name": "stdout",
     "output_type": "stream",
     "text": [
      "[1 2 3 4 5]\n",
      "[1 2 3 4 5]\n",
      "[0 1 3 2 4]\n"
     ]
    }
   ],
   "source": [
    "x=np.array([2,1,4,3,5])\n",
    "print(np.sort(x)) #returns a sorted version of the array without modifying the input\n",
    "x.sort() #to sort the array in-place, we can use the sort() method of arrays\n",
    "print(x)\n",
    "x=np.array([1,2,5,4,6])\n",
    "print(np.argsort(x)) #returns the indices of the sorted elements"
   ]
  },
  {
   "cell_type": "code",
   "execution_count": 21,
   "metadata": {},
   "outputs": [
    {
     "name": "stdout",
     "output_type": "stream",
     "text": [
      "[[7 2 9 2 3 3]\n",
      " [2 3 4 1 2 9]\n",
      " [1 4 6 8 2 3]\n",
      " [0 0 6 0 6 3]]\n",
      "***\n",
      "[[0 0 4 0 2 3]\n",
      " [1 2 6 1 2 3]\n",
      " [2 3 6 2 3 3]\n",
      " [7 4 9 8 6 9]]\n",
      "[[2 2 3 3 7 9]\n",
      " [1 2 2 3 4 9]\n",
      " [1 2 3 4 6 8]\n",
      " [0 0 0 3 6 6]]\n"
     ]
    }
   ],
   "source": [
    "X=np.random.randint(0,10,(4,6))\n",
    "print(X)\n",
    "print('***')\n",
    "print(np.sort(X,axis=0)) #sort each column of X\n",
    "print(np.sort(X,axis=1)) #sort each row of X\n",
    "#to find K smallest values in an array, Numpy provides np.partition() function. Check it out."
   ]
  },
  {
   "cell_type": "markdown",
   "metadata": {},
   "source": [
    "Numpy's structured arrays and record arrays - provides efficient storage for compound hetergeneous data"
   ]
  },
  {
   "cell_type": "code",
   "execution_count": 25,
   "metadata": {},
   "outputs": [
    {
     "name": "stdout",
     "output_type": "stream",
     "text": [
      "[('name', '<U10'), ('age', '<i4'), ('weight', '<f8')]\n",
      "[('Alice', 25, 76.4) ('Bob', 30, 65. ) ('Cathy', 29, 73.2)]\n"
     ]
    }
   ],
   "source": [
    "data = np.zeros(3,dtype={'names':('name','age','weight'),'formats':('U10','i4','f8')}) #here we use compound data type\n",
    "#for storing name,age and weights of people in a single structured array rather than storing these in 3 separate arrays\n",
    "#'U10' translates to unicode string of maximum length 10, 'i4' translates to 4-byte integer and 'f8' translates to \n",
    "#8-byte float. This is the dictionary-method of creating structured arrays.\n",
    "print(data.dtype)\n",
    "name=['Alice','Bob','Cathy']\n",
    "age=[25,30,29]\n",
    "weight=[76.4,65.0,73.2]\n",
    "#Now that we have created an empty container, we can fill the array with our list of values\n",
    "data['name']=name\n",
    "data['age']=age\n",
    "data['weight']=weight\n",
    "print(data) #data is now arranged together in one convinient block of memory"
   ]
  },
  {
   "cell_type": "code",
   "execution_count": 30,
   "metadata": {},
   "outputs": [
    {
     "name": "stdout",
     "output_type": "stream",
     "text": [
      "['Alice' 'Bob' 'Cathy']\n",
      "('Alice', 25, 76.4)\n",
      "Cathy\n",
      "['Alice' 'Cathy']\n"
     ]
    }
   ],
   "source": [
    "#The handy thing with structured arrays is that we can now refer to arrays either by index or by name\n",
    "print(data['name'])#get all names\n",
    "print(data[0])#get the firdt row of data\n",
    "print(data[-1]['name'])#get the name from the last row of data\n",
    "print(data[data['age']<30]['name']) #get names where age is under 30\n",
    "#To do more complicated operations from these, we should probably consider using the Pandas package which provides a \n",
    "#DataFrame object, which is a struture built on Numpy arrays that offers a variety of useful data manipulation\n",
    "#functionality similar to the above and a lot more. To find out other ways of creating structured arrays other than \n",
    "#the dictionary-method and to know about record arrays, check out the book Python in Data science handbook page \n",
    "#number-112."
   ]
  },
  {
   "cell_type": "code",
   "execution_count": null,
   "metadata": {},
   "outputs": [],
   "source": []
  }
 ],
 "metadata": {
  "kernelspec": {
   "display_name": "Python 3",
   "language": "python",
   "name": "python3"
  },
  "language_info": {
   "codemirror_mode": {
    "name": "ipython",
    "version": 3
   },
   "file_extension": ".py",
   "mimetype": "text/x-python",
   "name": "python",
   "nbconvert_exporter": "python",
   "pygments_lexer": "ipython3",
   "version": "3.7.3"
  }
 },
 "nbformat": 4,
 "nbformat_minor": 2
}
